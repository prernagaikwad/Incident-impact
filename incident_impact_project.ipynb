{
 "cells": [
  {
   "cell_type": "code",
   "execution_count": 1,
   "metadata": {},
   "outputs": [],
   "source": [
    "#Import the libraries\n",
    "import pandas as pd\n",
    "import numpy as np\n",
    "import matplotlib.pyplot as plt\n",
    "import seaborn as sns\n",
    "%matplotlib inline\n",
    "import pickle\n",
    "#To remove warning\n",
    "import warnings\n",
    "warnings.filterwarnings('ignore')"
   ]
  },
  {
   "cell_type": "code",
   "execution_count": 2,
   "metadata": {},
   "outputs": [],
   "source": [
    "#Load the dataset\n",
    "data=pd.read_excel(\"/home/prerna/sample_service.xlsx\")"
   ]
  },
  {
   "cell_type": "code",
   "execution_count": 3,
   "metadata": {},
   "outputs": [],
   "source": [
    "inc=data.copy()"
   ]
  },
  {
   "cell_type": "code",
   "execution_count": 4,
   "metadata": {},
   "outputs": [],
   "source": [
    "inc[\"ID_caller\"]= inc[\"ID_caller\"].str.replace(\"Caller\", \" \") \n",
    "inc[\"opened_by\"]= inc[\"opened_by\"].str.replace(\"Opened by\", \" \") \n",
    "inc[\"Created_by\"]= inc[\"Created_by\"].str.replace(\"Created by\", \" \") \n",
    "inc[\"Category Id\"]= inc[\"Category Id\"].str.replace(\"Subcategory\", \" \") \n",
    "inc[\"user_symptom\"]=inc[\"user_symptom\"].str.replace(\"Symptom\", \" \") \n",
    "inc[\"Support_group\"]=inc[\"Support_group\"].str.replace(\"Group\", \" \") \n",
    "inc[\"support_incharge\"]=inc[\"support_incharge\"].str.replace(\"Resolver\", \" \") \n",
    "inc[\"problem_ID\"]=inc[\"problem_ID\"].str.replace(\"Problem ID\", \" \") \n",
    "inc[\"updated_by\"]= inc[\"updated_by\"].str.replace(\"Updated by\", \" \") "
   ]
  },
  {
   "cell_type": "code",
   "execution_count": 5,
   "metadata": {},
   "outputs": [],
   "source": [
    "inc.rename({'Category Id':'Category_id'},axis=1, inplace=True)"
   ]
  },
  {
   "cell_type": "code",
   "execution_count": 6,
   "metadata": {},
   "outputs": [
    {
     "data": {
      "text/html": [
       "<div>\n",
       "<style scoped>\n",
       "    .dataframe tbody tr th:only-of-type {\n",
       "        vertical-align: middle;\n",
       "    }\n",
       "\n",
       "    .dataframe tbody tr th {\n",
       "        vertical-align: top;\n",
       "    }\n",
       "\n",
       "    .dataframe thead th {\n",
       "        text-align: right;\n",
       "    }\n",
       "</style>\n",
       "<table border=\"1\" class=\"dataframe\">\n",
       "  <thead>\n",
       "    <tr style=\"text-align: right;\">\n",
       "      <th></th>\n",
       "      <th>ID</th>\n",
       "      <th>ID_status</th>\n",
       "      <th>active</th>\n",
       "      <th>count_reassign</th>\n",
       "      <th>count_opening</th>\n",
       "      <th>count_updated</th>\n",
       "      <th>ID_caller</th>\n",
       "      <th>opened_by</th>\n",
       "      <th>opened_time</th>\n",
       "      <th>Created_by</th>\n",
       "      <th>...</th>\n",
       "      <th>Category_id</th>\n",
       "      <th>user_symptom</th>\n",
       "      <th>Support_group</th>\n",
       "      <th>support_incharge</th>\n",
       "      <th>Doc_knowledge</th>\n",
       "      <th>confirmation_check</th>\n",
       "      <th>impact</th>\n",
       "      <th>notify</th>\n",
       "      <th>problem_ID</th>\n",
       "      <th>change_request</th>\n",
       "    </tr>\n",
       "  </thead>\n",
       "  <tbody>\n",
       "    <tr>\n",
       "      <th>0</th>\n",
       "      <td>INC0000045</td>\n",
       "      <td>New</td>\n",
       "      <td>True</td>\n",
       "      <td>0</td>\n",
       "      <td>0</td>\n",
       "      <td>0</td>\n",
       "      <td>2403</td>\n",
       "      <td>8</td>\n",
       "      <td>2016-02-29 01:16:00</td>\n",
       "      <td>6</td>\n",
       "      <td>...</td>\n",
       "      <td>170</td>\n",
       "      <td>72</td>\n",
       "      <td>56</td>\n",
       "      <td>NaN</td>\n",
       "      <td>True</td>\n",
       "      <td>False</td>\n",
       "      <td>2 - Medium</td>\n",
       "      <td>Do Not Notify</td>\n",
       "      <td>NaN</td>\n",
       "      <td>NaN</td>\n",
       "    </tr>\n",
       "    <tr>\n",
       "      <th>1</th>\n",
       "      <td>INC0000045</td>\n",
       "      <td>Resolved</td>\n",
       "      <td>True</td>\n",
       "      <td>0</td>\n",
       "      <td>0</td>\n",
       "      <td>2</td>\n",
       "      <td>2403</td>\n",
       "      <td>8</td>\n",
       "      <td>2016-02-29 01:16:00</td>\n",
       "      <td>6</td>\n",
       "      <td>...</td>\n",
       "      <td>170</td>\n",
       "      <td>72</td>\n",
       "      <td>56</td>\n",
       "      <td>NaN</td>\n",
       "      <td>True</td>\n",
       "      <td>False</td>\n",
       "      <td>2 - Medium</td>\n",
       "      <td>Do Not Notify</td>\n",
       "      <td>NaN</td>\n",
       "      <td>NaN</td>\n",
       "    </tr>\n",
       "  </tbody>\n",
       "</table>\n",
       "<p>2 rows × 25 columns</p>\n",
       "</div>"
      ],
      "text/plain": [
       "           ID ID_status  active  count_reassign  count_opening  count_updated  \\\n",
       "0  INC0000045       New    True               0              0              0   \n",
       "1  INC0000045  Resolved    True               0              0              2   \n",
       "\n",
       "  ID_caller opened_by         opened_time Created_by  ... Category_id  \\\n",
       "0      2403         8 2016-02-29 01:16:00          6  ...         170   \n",
       "1      2403         8 2016-02-29 01:16:00          6  ...         170   \n",
       "\n",
       "  user_symptom Support_group support_incharge Doc_knowledge  \\\n",
       "0           72            56              NaN          True   \n",
       "1           72            56              NaN          True   \n",
       "\n",
       "  confirmation_check      impact         notify problem_ID  change_request  \n",
       "0              False  2 - Medium  Do Not Notify        NaN             NaN  \n",
       "1              False  2 - Medium  Do Not Notify        NaN             NaN  \n",
       "\n",
       "[2 rows x 25 columns]"
      ]
     },
     "execution_count": 6,
     "metadata": {},
     "output_type": "execute_result"
    }
   ],
   "source": [
    "inc=inc.replace(\"?\",np.nan)\n",
    "inc.head(2)"
   ]
  },
  {
   "cell_type": "code",
   "execution_count": 7,
   "metadata": {},
   "outputs": [],
   "source": [
    "inc[\"target_impact\"]=inc[\"impact\"].apply(lambda x: int(x.split(' ')[0]))"
   ]
  },
  {
   "cell_type": "code",
   "execution_count": 8,
   "metadata": {},
   "outputs": [],
   "source": [
    "inc[\"updated_day\"]=pd.to_datetime(inc.updated_at).dt.day\n",
    "inc[\"updated_month\"]=pd.to_datetime(inc.updated_at).dt.month\n",
    "inc[\"updated_year\"]=pd.to_datetime(inc.updated_at).dt.year\n",
    "inc[\"updated_hr\"]=pd.to_datetime(inc.updated_at).dt.hour\n",
    "inc[\"updated_minute\"]=pd.to_datetime(inc.updated_at).dt.minute\n",
    "inc[\"opened_at_day\"]=pd.to_datetime(inc.opened_time).dt.day\n",
    "inc[\"opened_at_month\"]=pd.to_datetime(inc.opened_time).dt.month\n",
    "inc[\"opened_at_year\"]=pd.to_datetime(inc.opened_time).dt.year\n",
    "inc[\"opened_at_hr\"]=pd.to_datetime(inc.opened_time).dt.hour\n",
    "inc[\"opened_at_minute\"]=pd.to_datetime(inc.opened_time).dt.minute\n",
    "inc[\"created_at_day\"]=pd.to_datetime(inc.created_at).dt.day\n",
    "inc[\"created_at_month\"]=pd.to_datetime(inc.created_at).dt.month\n",
    "inc[\"created_at_year\"]=pd.to_datetime(inc.created_at).dt.year\n",
    "inc[\"created_at_hr\"]=pd.to_datetime(inc.created_at).dt.hour\n",
    "inc[\"created_at_minute\"]=pd.to_datetime(inc.created_at).dt.minute"
   ]
  },
  {
   "cell_type": "code",
   "execution_count": 9,
   "metadata": {},
   "outputs": [],
   "source": [
    "incident=inc.copy()"
   ]
  },
  {
   "cell_type": "code",
   "execution_count": 10,
   "metadata": {},
   "outputs": [],
   "source": [
    "incident.drop(['opened_time','created_at','updated_at','support_incharge','change_request','problem_ID'],axis=1,inplace=True)"
   ]
  },
  {
   "cell_type": "code",
   "execution_count": 11,
   "metadata": {},
   "outputs": [
    {
     "data": {
      "text/plain": [
       "0    339\n",
       "1     10\n",
       "Name: confirmation_check, dtype: int64"
      ]
     },
     "execution_count": 11,
     "metadata": {},
     "output_type": "execute_result"
    }
   ],
   "source": [
    "from sklearn.preprocessing import LabelEncoder\n",
    "number=LabelEncoder()\n",
    "incident['ID_status']=number.fit_transform(incident['ID_status'])\n",
    "incident['ID_status'].value_counts()\n",
    "incident['active']=number.fit_transform(incident['active'])\n",
    "incident['active'].value_counts()\n",
    "incident['type_contact']=number.fit_transform(incident['type_contact'])\n",
    "incident['type_contact'].value_counts()\n",
    "incident['Doc_knowledge']=number.fit_transform(incident['Doc_knowledge'])\n",
    "incident['Doc_knowledge'].value_counts()\n",
    "incident['confirmation_check']=number.fit_transform(incident['confirmation_check'])\n",
    "incident['confirmation_check'].value_counts()"
   ]
  },
  {
   "cell_type": "code",
   "execution_count": 12,
   "metadata": {},
   "outputs": [],
   "source": [
    "for columns in ['user_symptom','created_at_day','created_at_month','created_at_year','created_at_hr','created_at_minute']:\n",
    "    median=incident[columns].median()\n",
    "    incident[columns]=incident[columns].fillna(median)\n"
   ]
  },
  {
   "cell_type": "code",
   "execution_count": 13,
   "metadata": {},
   "outputs": [],
   "source": [
    "incident.drop(['impact'],axis=1,inplace=True)"
   ]
  },
  {
   "cell_type": "code",
   "execution_count": 14,
   "metadata": {},
   "outputs": [
    {
     "data": {
      "text/html": [
       "<div>\n",
       "<style scoped>\n",
       "    .dataframe tbody tr th:only-of-type {\n",
       "        vertical-align: middle;\n",
       "    }\n",
       "\n",
       "    .dataframe tbody tr th {\n",
       "        vertical-align: top;\n",
       "    }\n",
       "\n",
       "    .dataframe thead th {\n",
       "        text-align: right;\n",
       "    }\n",
       "</style>\n",
       "<table border=\"1\" class=\"dataframe\">\n",
       "  <thead>\n",
       "    <tr style=\"text-align: right;\">\n",
       "      <th></th>\n",
       "      <th>ID</th>\n",
       "      <th>ID_status</th>\n",
       "      <th>active</th>\n",
       "      <th>count_reassign</th>\n",
       "      <th>count_opening</th>\n",
       "      <th>count_updated</th>\n",
       "      <th>ID_caller</th>\n",
       "      <th>opened_by</th>\n",
       "      <th>Created_by</th>\n",
       "      <th>updated_by</th>\n",
       "      <th>...</th>\n",
       "      <th>opened_at_month</th>\n",
       "      <th>opened_at_year</th>\n",
       "      <th>opened_at_hr</th>\n",
       "      <th>opened_at_minute</th>\n",
       "      <th>created_at_day</th>\n",
       "      <th>created_at_month</th>\n",
       "      <th>created_at_year</th>\n",
       "      <th>created_at_hr</th>\n",
       "      <th>created_at_minute</th>\n",
       "      <th>target_impact</th>\n",
       "    </tr>\n",
       "  </thead>\n",
       "  <tbody>\n",
       "    <tr>\n",
       "      <th>0</th>\n",
       "      <td>INC0000045</td>\n",
       "      <td>4</td>\n",
       "      <td>1</td>\n",
       "      <td>0</td>\n",
       "      <td>0</td>\n",
       "      <td>0</td>\n",
       "      <td>2403</td>\n",
       "      <td>8</td>\n",
       "      <td>6</td>\n",
       "      <td>21</td>\n",
       "      <td>...</td>\n",
       "      <td>2</td>\n",
       "      <td>2016</td>\n",
       "      <td>1</td>\n",
       "      <td>16</td>\n",
       "      <td>29.0</td>\n",
       "      <td>2.0</td>\n",
       "      <td>2016.0</td>\n",
       "      <td>1.0</td>\n",
       "      <td>23.0</td>\n",
       "      <td>2</td>\n",
       "    </tr>\n",
       "    <tr>\n",
       "      <th>1</th>\n",
       "      <td>INC0000045</td>\n",
       "      <td>5</td>\n",
       "      <td>1</td>\n",
       "      <td>0</td>\n",
       "      <td>0</td>\n",
       "      <td>2</td>\n",
       "      <td>2403</td>\n",
       "      <td>8</td>\n",
       "      <td>6</td>\n",
       "      <td>642</td>\n",
       "      <td>...</td>\n",
       "      <td>2</td>\n",
       "      <td>2016</td>\n",
       "      <td>1</td>\n",
       "      <td>16</td>\n",
       "      <td>29.0</td>\n",
       "      <td>2.0</td>\n",
       "      <td>2016.0</td>\n",
       "      <td>1.0</td>\n",
       "      <td>23.0</td>\n",
       "      <td>2</td>\n",
       "    </tr>\n",
       "  </tbody>\n",
       "</table>\n",
       "<p>2 rows × 34 columns</p>\n",
       "</div>"
      ],
      "text/plain": [
       "           ID  ID_status  active  count_reassign  count_opening  \\\n",
       "0  INC0000045          4       1               0              0   \n",
       "1  INC0000045          5       1               0              0   \n",
       "\n",
       "   count_updated ID_caller opened_by Created_by updated_by  ...  \\\n",
       "0              0      2403         8          6         21  ...   \n",
       "1              2      2403         8          6        642  ...   \n",
       "\n",
       "   opened_at_month opened_at_year opened_at_hr opened_at_minute  \\\n",
       "0                2           2016            1               16   \n",
       "1                2           2016            1               16   \n",
       "\n",
       "  created_at_day  created_at_month  created_at_year created_at_hr  \\\n",
       "0           29.0               2.0           2016.0           1.0   \n",
       "1           29.0               2.0           2016.0           1.0   \n",
       "\n",
       "   created_at_minute  target_impact  \n",
       "0               23.0              2  \n",
       "1               23.0              2  \n",
       "\n",
       "[2 rows x 34 columns]"
      ]
     },
     "execution_count": 14,
     "metadata": {},
     "output_type": "execute_result"
    }
   ],
   "source": [
    "last= inc['target_impact']\n",
    "incident.drop(labels=['target_impact'], axis=1,inplace = True)\n",
    "incident.insert(33, 'target_impact', last)\n",
    "incident.head(2)"
   ]
  },
  {
   "cell_type": "code",
   "execution_count": 15,
   "metadata": {},
   "outputs": [],
   "source": [
    "incident1=incident.copy()"
   ]
  },
  {
   "cell_type": "code",
   "execution_count": 16,
   "metadata": {},
   "outputs": [],
   "source": [
    "incident[\"location\"]= incident[\"location\"].str.replace(\"Location\", \" \") "
   ]
  },
  {
   "cell_type": "code",
   "execution_count": 17,
   "metadata": {},
   "outputs": [],
   "source": [
    "incident.drop(['notify'],axis=1,inplace=True)"
   ]
  },
  {
   "cell_type": "code",
   "execution_count": 19,
   "metadata": {},
   "outputs": [
    {
     "data": {
      "text/html": [
       "<div>\n",
       "<style scoped>\n",
       "    .dataframe tbody tr th:only-of-type {\n",
       "        vertical-align: middle;\n",
       "    }\n",
       "\n",
       "    .dataframe tbody tr th {\n",
       "        vertical-align: top;\n",
       "    }\n",
       "\n",
       "    .dataframe thead th {\n",
       "        text-align: right;\n",
       "    }\n",
       "</style>\n",
       "<table border=\"1\" class=\"dataframe\">\n",
       "  <thead>\n",
       "    <tr style=\"text-align: right;\">\n",
       "      <th></th>\n",
       "      <th>ID</th>\n",
       "      <th>ID_status</th>\n",
       "      <th>active</th>\n",
       "      <th>count_reassign</th>\n",
       "      <th>count_opening</th>\n",
       "      <th>count_updated</th>\n",
       "      <th>ID_caller</th>\n",
       "      <th>opened_by</th>\n",
       "      <th>Created_by</th>\n",
       "      <th>updated_by</th>\n",
       "      <th>...</th>\n",
       "      <th>opened_at_month</th>\n",
       "      <th>opened_at_year</th>\n",
       "      <th>opened_at_hr</th>\n",
       "      <th>opened_at_minute</th>\n",
       "      <th>created_at_day</th>\n",
       "      <th>created_at_month</th>\n",
       "      <th>created_at_year</th>\n",
       "      <th>created_at_hr</th>\n",
       "      <th>created_at_minute</th>\n",
       "      <th>target_impact</th>\n",
       "    </tr>\n",
       "  </thead>\n",
       "  <tbody>\n",
       "    <tr>\n",
       "      <th>0</th>\n",
       "      <td>0000045</td>\n",
       "      <td>4</td>\n",
       "      <td>1</td>\n",
       "      <td>0</td>\n",
       "      <td>0</td>\n",
       "      <td>0</td>\n",
       "      <td>2403</td>\n",
       "      <td>8</td>\n",
       "      <td>6</td>\n",
       "      <td>21</td>\n",
       "      <td>...</td>\n",
       "      <td>2</td>\n",
       "      <td>2016</td>\n",
       "      <td>1</td>\n",
       "      <td>16</td>\n",
       "      <td>29.0</td>\n",
       "      <td>2.0</td>\n",
       "      <td>2016.0</td>\n",
       "      <td>1.0</td>\n",
       "      <td>23.0</td>\n",
       "      <td>2</td>\n",
       "    </tr>\n",
       "    <tr>\n",
       "      <th>1</th>\n",
       "      <td>0000045</td>\n",
       "      <td>5</td>\n",
       "      <td>1</td>\n",
       "      <td>0</td>\n",
       "      <td>0</td>\n",
       "      <td>2</td>\n",
       "      <td>2403</td>\n",
       "      <td>8</td>\n",
       "      <td>6</td>\n",
       "      <td>642</td>\n",
       "      <td>...</td>\n",
       "      <td>2</td>\n",
       "      <td>2016</td>\n",
       "      <td>1</td>\n",
       "      <td>16</td>\n",
       "      <td>29.0</td>\n",
       "      <td>2.0</td>\n",
       "      <td>2016.0</td>\n",
       "      <td>1.0</td>\n",
       "      <td>23.0</td>\n",
       "      <td>2</td>\n",
       "    </tr>\n",
       "  </tbody>\n",
       "</table>\n",
       "<p>2 rows × 33 columns</p>\n",
       "</div>"
      ],
      "text/plain": [
       "         ID  ID_status  active  count_reassign  count_opening  count_updated  \\\n",
       "0   0000045          4       1               0              0              0   \n",
       "1   0000045          5       1               0              0              2   \n",
       "\n",
       "  ID_caller opened_by Created_by updated_by  ...  opened_at_month  \\\n",
       "0      2403         8          6         21  ...                2   \n",
       "1      2403         8          6        642  ...                2   \n",
       "\n",
       "  opened_at_year opened_at_hr opened_at_minute created_at_day  \\\n",
       "0           2016            1               16           29.0   \n",
       "1           2016            1               16           29.0   \n",
       "\n",
       "   created_at_month  created_at_year  created_at_hr  created_at_minute  \\\n",
       "0               2.0           2016.0            1.0               23.0   \n",
       "1               2.0           2016.0            1.0               23.0   \n",
       "\n",
       "   target_impact  \n",
       "0              2  \n",
       "1              2  \n",
       "\n",
       "[2 rows x 33 columns]"
      ]
     },
     "execution_count": 19,
     "metadata": {},
     "output_type": "execute_result"
    }
   ],
   "source": [
    "incident['ID']=incident['ID'].str.replace(\"INC\", \" \") \n",
    "incident.head(2)"
   ]
  },
  {
   "cell_type": "code",
   "execution_count": 20,
   "metadata": {},
   "outputs": [],
   "source": [
    "inc['Created_by'] = inc['Created_by'].astype(float)\n",
    "inc['Created_by'].fillna((inc['Created_by'].mean()), inplace=True)\n",
    "inc['Created_by'] = inc['Created_by'].astype(int)"
   ]
  },
  {
   "cell_type": "code",
   "execution_count": 21,
   "metadata": {},
   "outputs": [],
   "source": [
    "incident3=incident.copy()"
   ]
  },
  {
   "cell_type": "code",
   "execution_count": 22,
   "metadata": {},
   "outputs": [
    {
     "name": "stdout",
     "output_type": "stream",
     "text": [
      "<class 'pandas.core.frame.DataFrame'>\n",
      "RangeIndex: 349 entries, 0 to 348\n",
      "Data columns (total 33 columns):\n",
      " #   Column              Non-Null Count  Dtype  \n",
      "---  ------              --------------  -----  \n",
      " 0   ID                  349 non-null    object \n",
      " 1   ID_status           349 non-null    int64  \n",
      " 2   active              349 non-null    int64  \n",
      " 3   count_reassign      349 non-null    int64  \n",
      " 4   count_opening       349 non-null    int64  \n",
      " 5   count_updated       349 non-null    int64  \n",
      " 6   ID_caller           349 non-null    object \n",
      " 7   opened_by           349 non-null    object \n",
      " 8   Created_by          287 non-null    object \n",
      " 9   updated_by          349 non-null    object \n",
      " 10  type_contact        349 non-null    int64  \n",
      " 11  location            349 non-null    object \n",
      " 12  Category_id         349 non-null    object \n",
      " 13  user_symptom        349 non-null    object \n",
      " 14  Support_group       349 non-null    object \n",
      " 15  Doc_knowledge       349 non-null    int64  \n",
      " 16  confirmation_check  349 non-null    int64  \n",
      " 17  updated_day         349 non-null    int64  \n",
      " 18  updated_month       349 non-null    int64  \n",
      " 19  updated_year        349 non-null    int64  \n",
      " 20  updated_hr          349 non-null    int64  \n",
      " 21  updated_minute      349 non-null    int64  \n",
      " 22  opened_at_day       349 non-null    int64  \n",
      " 23  opened_at_month     349 non-null    int64  \n",
      " 24  opened_at_year      349 non-null    int64  \n",
      " 25  opened_at_hr        349 non-null    int64  \n",
      " 26  opened_at_minute    349 non-null    int64  \n",
      " 27  created_at_day      349 non-null    float64\n",
      " 28  created_at_month    349 non-null    float64\n",
      " 29  created_at_year     349 non-null    float64\n",
      " 30  created_at_hr       349 non-null    float64\n",
      " 31  created_at_minute   349 non-null    float64\n",
      " 32  target_impact       349 non-null    int64  \n",
      "dtypes: float64(5), int64(19), object(9)\n",
      "memory usage: 90.1+ KB\n"
     ]
    }
   ],
   "source": [
    "incident3.info()"
   ]
  },
  {
   "cell_type": "code",
   "execution_count": 23,
   "metadata": {},
   "outputs": [],
   "source": [
    "incident3['ID']=incident3['ID'].astype(int)"
   ]
  },
  {
   "cell_type": "code",
   "execution_count": 24,
   "metadata": {},
   "outputs": [],
   "source": [
    "incident3['location']=incident3['location'].astype(int)\n",
    "#df[\"a\"] = df[\"a\"].astype(str).astype(float)\n",
    "incident3['ID']=incident3['ID'].astype(float).astype(int)\n",
    "incident3['ID_caller']=incident3['ID_caller'].astype(int)\n",
    "incident3['opened_by']=incident3['opened_by'].astype(int)\n",
    "#incident3['Created_by']=incident3['Created_by'].astype(int)\n",
    "incident3['updated_by']=incident3['updated_by'].astype(int)\n",
    "incident3['location']=incident3['location'].astype(int)\n",
    "incident3['Category_id']=incident3['Category_id'].astype(int)\n",
    "incident3['user_symptom']=incident3['user_symptom'].astype(int)\n",
    "incident3['Support_group']=incident3['Support_group'].astype(int)"
   ]
  },
  {
   "cell_type": "code",
   "execution_count": 25,
   "metadata": {},
   "outputs": [],
   "source": [
    "incident3['Created_by'].fillna((incident3['Created_by'].median()), inplace=True)"
   ]
  },
  {
   "cell_type": "code",
   "execution_count": 26,
   "metadata": {},
   "outputs": [],
   "source": [
    "incident3['Created_by']=incident3['Created_by'].astype(int)"
   ]
  },
  {
   "cell_type": "code",
   "execution_count": 27,
   "metadata": {},
   "outputs": [],
   "source": [
    "incident3=incident3.replace({'type_contact': 0,'Doc_knowledge':0},1)"
   ]
  },
  {
   "cell_type": "code",
   "execution_count": 28,
   "metadata": {},
   "outputs": [
    {
     "name": "stdout",
     "output_type": "stream",
     "text": [
      "<class 'pandas.core.frame.DataFrame'>\n",
      "RangeIndex: 349 entries, 0 to 348\n",
      "Data columns (total 33 columns):\n",
      " #   Column              Non-Null Count  Dtype  \n",
      "---  ------              --------------  -----  \n",
      " 0   ID                  349 non-null    int64  \n",
      " 1   ID_status           349 non-null    int64  \n",
      " 2   active              349 non-null    int64  \n",
      " 3   count_reassign      349 non-null    int64  \n",
      " 4   count_opening       349 non-null    int64  \n",
      " 5   count_updated       349 non-null    int64  \n",
      " 6   ID_caller           349 non-null    int64  \n",
      " 7   opened_by           349 non-null    int64  \n",
      " 8   Created_by          349 non-null    int64  \n",
      " 9   updated_by          349 non-null    int64  \n",
      " 10  type_contact        349 non-null    int64  \n",
      " 11  location            349 non-null    int64  \n",
      " 12  Category_id         349 non-null    int64  \n",
      " 13  user_symptom        349 non-null    int64  \n",
      " 14  Support_group       349 non-null    int64  \n",
      " 15  Doc_knowledge       349 non-null    int64  \n",
      " 16  confirmation_check  349 non-null    int64  \n",
      " 17  updated_day         349 non-null    int64  \n",
      " 18  updated_month       349 non-null    int64  \n",
      " 19  updated_year        349 non-null    int64  \n",
      " 20  updated_hr          349 non-null    int64  \n",
      " 21  updated_minute      349 non-null    int64  \n",
      " 22  opened_at_day       349 non-null    int64  \n",
      " 23  opened_at_month     349 non-null    int64  \n",
      " 24  opened_at_year      349 non-null    int64  \n",
      " 25  opened_at_hr        349 non-null    int64  \n",
      " 26  opened_at_minute    349 non-null    int64  \n",
      " 27  created_at_day      349 non-null    float64\n",
      " 28  created_at_month    349 non-null    float64\n",
      " 29  created_at_year     349 non-null    float64\n",
      " 30  created_at_hr       349 non-null    float64\n",
      " 31  created_at_minute   349 non-null    float64\n",
      " 32  target_impact       349 non-null    int64  \n",
      "dtypes: float64(5), int64(28)\n",
      "memory usage: 90.1 KB\n"
     ]
    }
   ],
   "source": [
    "incident3.info()"
   ]
  },
  {
   "cell_type": "code",
   "execution_count": 29,
   "metadata": {},
   "outputs": [],
   "source": [
    "#Spliting data"
   ]
  },
  {
   "cell_type": "code",
   "execution_count": 30,
   "metadata": {},
   "outputs": [],
   "source": [
    "X=incident3.drop(\"target_impact\",axis=1)\n",
    "y=incident3[\"target_impact\"]"
   ]
  },
  {
   "cell_type": "code",
   "execution_count": 31,
   "metadata": {},
   "outputs": [],
   "source": [
    "from sklearn.model_selection import train_test_split\n",
    "X_train,X_test,y_train,y_test = train_test_split(X, y, test_size=0.3,random_state=10)"
   ]
  },
  {
   "cell_type": "code",
   "execution_count": 32,
   "metadata": {},
   "outputs": [
    {
     "data": {
      "text/plain": [
       "((244,), (105,))"
      ]
     },
     "execution_count": 32,
     "metadata": {},
     "output_type": "execute_result"
    }
   ],
   "source": [
    "y_train.shape, y_test.shape"
   ]
  },
  {
   "cell_type": "code",
   "execution_count": 33,
   "metadata": {},
   "outputs": [
    {
     "data": {
      "text/plain": [
       "2    0.905738\n",
       "3    0.065574\n",
       "1    0.028689\n",
       "Name: target_impact, dtype: float64"
      ]
     },
     "execution_count": 33,
     "metadata": {},
     "output_type": "execute_result"
    }
   ],
   "source": [
    "y_train.value_counts()/len(y_train)"
   ]
  },
  {
   "cell_type": "code",
   "execution_count": 34,
   "metadata": {},
   "outputs": [
    {
     "data": {
      "text/plain": [
       "2    0.895238\n",
       "1    0.057143\n",
       "3    0.047619\n",
       "Name: target_impact, dtype: float64"
      ]
     },
     "execution_count": 34,
     "metadata": {},
     "output_type": "execute_result"
    }
   ],
   "source": [
    "y_test.value_counts()/len(y_test)"
   ]
  },
  {
   "cell_type": "code",
   "execution_count": null,
   "metadata": {},
   "outputs": [],
   "source": [
    "#SMOTE"
   ]
  },
  {
   "cell_type": "code",
   "execution_count": 35,
   "metadata": {},
   "outputs": [],
   "source": [
    "from imblearn.over_sampling import SMOTE\n",
    "from collections import Counter"
   ]
  },
  {
   "cell_type": "code",
   "execution_count": 36,
   "metadata": {},
   "outputs": [
    {
     "name": "stdout",
     "output_type": "stream",
     "text": [
      "Before Counter({2: 221, 3: 16, 1: 7})\n"
     ]
    }
   ],
   "source": [
    "counter = Counter(y_train)\n",
    "print('Before',counter)"
   ]
  },
  {
   "cell_type": "code",
   "execution_count": 37,
   "metadata": {},
   "outputs": [
    {
     "data": {
      "text/plain": [
       "<matplotlib.axes._subplots.AxesSubplot at 0x7f106c55b550>"
      ]
     },
     "execution_count": 37,
     "metadata": {},
     "output_type": "execute_result"
    },
    {
     "data": {
      "image/png": "[encoded data removed]",
      "text/plain": [
       "<Figure size 432x288 with 1 Axes>"
      ]
     },
     "metadata": {
      "needs_background": "light"
     },
     "output_type": "display_data"
    }
   ],
   "source": [
    "sns.countplot(y_train)"
   ]
  },
  {
   "cell_type": "code",
   "execution_count": 38,
   "metadata": {},
   "outputs": [],
   "source": [
    "# oversampling the train dataset using SMOTE\n",
    "smt = SMOTE()"
   ]
  },
  {
   "cell_type": "code",
   "execution_count": 39,
   "metadata": {},
   "outputs": [
    {
     "name": "stdout",
     "output_type": "stream",
     "text": [
      "After Counter({2: 221, 1: 221, 3: 221})\n"
     ]
    }
   ],
   "source": [
    "X_train_sm, y_train_sm = smt.fit_resample(X_train, y_train)\n",
    "\n",
    "counter = Counter(y_train_sm)\n",
    "print('After',counter)"
   ]
  },
  {
   "cell_type": "code",
   "execution_count": 40,
   "metadata": {},
   "outputs": [
    {
     "data": {
      "text/plain": [
       "<matplotlib.axes._subplots.AxesSubplot at 0x7f106a46da30>"
      ]
     },
     "execution_count": 40,
     "metadata": {},
     "output_type": "execute_result"
    },
    {
     "data": {
      "image/png": "[encoded data removed]",
      "text/plain": [
       "<Figure size 432x288 with 1 Axes>"
      ]
     },
     "metadata": {
      "needs_background": "light"
     },
     "output_type": "display_data"
    }
   ],
   "source": [
    "sns.countplot(y_train_sm)"
   ]
  },
  {
   "cell_type": "code",
   "execution_count": null,
   "metadata": {},
   "outputs": [],
   "source": [
    "#Hybrid Technique\n",
    "#SMOTE + Tomek Links"
   ]
  },
  {
   "cell_type": "code",
   "execution_count": 41,
   "metadata": {},
   "outputs": [
    {
     "name": "stdout",
     "output_type": "stream",
     "text": [
      "Before Counter({2: 221, 3: 16, 1: 7})\n"
     ]
    }
   ],
   "source": [
    "from imblearn.combine import SMOTETomek\n",
    "\n",
    "counter = Counter(y_train)\n",
    "print('Before',counter)"
   ]
  },
  {
   "cell_type": "code",
   "execution_count": 42,
   "metadata": {},
   "outputs": [],
   "source": [
    "# oversampling the train dataset using SMOTE + Tomek\n",
    "smtom = SMOTETomek(random_state=139)\n",
    "X_train_smtom, y_train_smtom = smtom.fit_resample(X_train, y_train)\n"
   ]
  },
  {
   "cell_type": "code",
   "execution_count": 43,
   "metadata": {},
   "outputs": [
    {
     "name": "stdout",
     "output_type": "stream",
     "text": [
      "After Counter({1: 221, 2: 220, 3: 220})\n"
     ]
    }
   ],
   "source": [
    "counter = Counter(y_train_smtom)\n",
    "print('After',counter)"
   ]
  },
  {
   "cell_type": "code",
   "execution_count": 44,
   "metadata": {},
   "outputs": [],
   "source": [
    "#Feature Selection"
   ]
  },
  {
   "cell_type": "code",
   "execution_count": 45,
   "metadata": {},
   "outputs": [],
   "source": [
    "from sklearn.feature_selection import SelectKBest\n",
    "from sklearn.feature_selection import chi2"
   ]
  },
  {
   "cell_type": "code",
   "execution_count": 46,
   "metadata": {},
   "outputs": [
    {
     "data": {
      "text/plain": [
       "SelectKBest(k=30, score_func=<function chi2 at 0x7f106a3f3040>)"
      ]
     },
     "execution_count": 46,
     "metadata": {},
     "output_type": "execute_result"
    }
   ],
   "source": [
    "ordered_rank_feature=SelectKBest(score_func=chi2,k=30)\n",
    "ordered_feature=ordered_rank_feature.fit(X_train_sm,y_train_sm)\n",
    "ordered_feature"
   ]
  },
  {
   "cell_type": "code",
   "execution_count": 47,
   "metadata": {},
   "outputs": [
    {
     "data": {
      "text/html": [
       "<div>\n",
       "<style scoped>\n",
       "    .dataframe tbody tr th:only-of-type {\n",
       "        vertical-align: middle;\n",
       "    }\n",
       "\n",
       "    .dataframe tbody tr th {\n",
       "        vertical-align: top;\n",
       "    }\n",
       "\n",
       "    .dataframe thead th {\n",
       "        text-align: right;\n",
       "    }\n",
       "</style>\n",
       "<table border=\"1\" class=\"dataframe\">\n",
       "  <thead>\n",
       "    <tr style=\"text-align: right;\">\n",
       "      <th></th>\n",
       "      <th>scores</th>\n",
       "      <th>0</th>\n",
       "    </tr>\n",
       "  </thead>\n",
       "  <tbody>\n",
       "    <tr>\n",
       "      <th>6</th>\n",
       "      <td>113422.147468</td>\n",
       "      <td>ID_caller</td>\n",
       "    </tr>\n",
       "    <tr>\n",
       "      <th>7</th>\n",
       "      <td>33147.139970</td>\n",
       "      <td>opened_by</td>\n",
       "    </tr>\n",
       "    <tr>\n",
       "      <th>13</th>\n",
       "      <td>15668.486740</td>\n",
       "      <td>user_symptom</td>\n",
       "    </tr>\n",
       "    <tr>\n",
       "      <th>11</th>\n",
       "      <td>10098.346422</td>\n",
       "      <td>location</td>\n",
       "    </tr>\n",
       "    <tr>\n",
       "      <th>9</th>\n",
       "      <td>8992.061011</td>\n",
       "      <td>updated_by</td>\n",
       "    </tr>\n",
       "    <tr>\n",
       "      <th>14</th>\n",
       "      <td>2403.494963</td>\n",
       "      <td>Support_group</td>\n",
       "    </tr>\n",
       "    <tr>\n",
       "      <th>12</th>\n",
       "      <td>1807.806981</td>\n",
       "      <td>Category_id</td>\n",
       "    </tr>\n",
       "    <tr>\n",
       "      <th>26</th>\n",
       "      <td>1341.346441</td>\n",
       "      <td>opened_at_minute</td>\n",
       "    </tr>\n",
       "    <tr>\n",
       "      <th>8</th>\n",
       "      <td>666.945969</td>\n",
       "      <td>Created_by</td>\n",
       "    </tr>\n",
       "    <tr>\n",
       "      <th>31</th>\n",
       "      <td>380.356043</td>\n",
       "      <td>created_at_minute</td>\n",
       "    </tr>\n",
       "    <tr>\n",
       "      <th>0</th>\n",
       "      <td>372.302479</td>\n",
       "      <td>ID</td>\n",
       "    </tr>\n",
       "    <tr>\n",
       "      <th>3</th>\n",
       "      <td>123.993846</td>\n",
       "      <td>count_reassign</td>\n",
       "    </tr>\n",
       "    <tr>\n",
       "      <th>21</th>\n",
       "      <td>102.286483</td>\n",
       "      <td>updated_minute</td>\n",
       "    </tr>\n",
       "    <tr>\n",
       "      <th>5</th>\n",
       "      <td>57.257999</td>\n",
       "      <td>count_updated</td>\n",
       "    </tr>\n",
       "    <tr>\n",
       "      <th>17</th>\n",
       "      <td>55.834302</td>\n",
       "      <td>updated_day</td>\n",
       "    </tr>\n",
       "    <tr>\n",
       "      <th>20</th>\n",
       "      <td>46.622850</td>\n",
       "      <td>updated_hr</td>\n",
       "    </tr>\n",
       "    <tr>\n",
       "      <th>1</th>\n",
       "      <td>23.625950</td>\n",
       "      <td>ID_status</td>\n",
       "    </tr>\n",
       "    <tr>\n",
       "      <th>25</th>\n",
       "      <td>23.608296</td>\n",
       "      <td>opened_at_hr</td>\n",
       "    </tr>\n",
       "    <tr>\n",
       "      <th>2</th>\n",
       "      <td>10.196653</td>\n",
       "      <td>active</td>\n",
       "    </tr>\n",
       "    <tr>\n",
       "      <th>18</th>\n",
       "      <td>7.725081</td>\n",
       "      <td>updated_month</td>\n",
       "    </tr>\n",
       "    <tr>\n",
       "      <th>30</th>\n",
       "      <td>7.534293</td>\n",
       "      <td>created_at_hr</td>\n",
       "    </tr>\n",
       "    <tr>\n",
       "      <th>4</th>\n",
       "      <td>4.000000</td>\n",
       "      <td>count_opening</td>\n",
       "    </tr>\n",
       "    <tr>\n",
       "      <th>16</th>\n",
       "      <td>2.909091</td>\n",
       "      <td>confirmation_check</td>\n",
       "    </tr>\n",
       "    <tr>\n",
       "      <th>10</th>\n",
       "      <td>0.000000</td>\n",
       "      <td>type_contact</td>\n",
       "    </tr>\n",
       "    <tr>\n",
       "      <th>15</th>\n",
       "      <td>0.000000</td>\n",
       "      <td>Doc_knowledge</td>\n",
       "    </tr>\n",
       "    <tr>\n",
       "      <th>19</th>\n",
       "      <td>0.000000</td>\n",
       "      <td>updated_year</td>\n",
       "    </tr>\n",
       "    <tr>\n",
       "      <th>22</th>\n",
       "      <td>0.000000</td>\n",
       "      <td>opened_at_day</td>\n",
       "    </tr>\n",
       "    <tr>\n",
       "      <th>23</th>\n",
       "      <td>0.000000</td>\n",
       "      <td>opened_at_month</td>\n",
       "    </tr>\n",
       "    <tr>\n",
       "      <th>24</th>\n",
       "      <td>0.000000</td>\n",
       "      <td>opened_at_year</td>\n",
       "    </tr>\n",
       "    <tr>\n",
       "      <th>27</th>\n",
       "      <td>0.000000</td>\n",
       "      <td>created_at_day</td>\n",
       "    </tr>\n",
       "  </tbody>\n",
       "</table>\n",
       "</div>"
      ],
      "text/plain": [
       "           scores                   0\n",
       "6   113422.147468           ID_caller\n",
       "7    33147.139970           opened_by\n",
       "13   15668.486740        user_symptom\n",
       "11   10098.346422            location\n",
       "9     8992.061011          updated_by\n",
       "14    2403.494963       Support_group\n",
       "12    1807.806981         Category_id\n",
       "26    1341.346441    opened_at_minute\n",
       "8      666.945969          Created_by\n",
       "31     380.356043   created_at_minute\n",
       "0      372.302479                  ID\n",
       "3      123.993846      count_reassign\n",
       "21     102.286483      updated_minute\n",
       "5       57.257999       count_updated\n",
       "17      55.834302         updated_day\n",
       "20      46.622850          updated_hr\n",
       "1       23.625950           ID_status\n",
       "25      23.608296        opened_at_hr\n",
       "2       10.196653              active\n",
       "18       7.725081       updated_month\n",
       "30       7.534293       created_at_hr\n",
       "4        4.000000       count_opening\n",
       "16       2.909091  confirmation_check\n",
       "10       0.000000        type_contact\n",
       "15       0.000000       Doc_knowledge\n",
       "19       0.000000        updated_year\n",
       "22       0.000000       opened_at_day\n",
       "23       0.000000     opened_at_month\n",
       "24       0.000000      opened_at_year\n",
       "27       0.000000      created_at_day"
      ]
     },
     "execution_count": 47,
     "metadata": {},
     "output_type": "execute_result"
    }
   ],
   "source": [
    "df_scores=pd.DataFrame(ordered_feature.scores_,columns=['scores'])\n",
    "df_columns=pd.DataFrame(X_train.columns)\n",
    "features_rank=pd.concat([df_scores,df_columns],axis=1)\n",
    "features_rank.nlargest(30,'scores')\n"
   ]
  },
  {
   "cell_type": "code",
   "execution_count": 48,
   "metadata": {},
   "outputs": [],
   "source": [
    "#Extra Tree Classifier"
   ]
  },
  {
   "cell_type": "code",
   "execution_count": 50,
   "metadata": {},
   "outputs": [
    {
     "data": {
      "text/plain": [
       "ExtraTreesClassifier()"
      ]
     },
     "execution_count": 50,
     "metadata": {},
     "output_type": "execute_result"
    }
   ],
   "source": [
    "from sklearn.ensemble import ExtraTreesClassifier\n",
    "import matplotlib.pyplot as plt\n",
    "model=ExtraTreesClassifier()\n",
    "model.fit(X_train_sm,y_train_sm)"
   ]
  },
  {
   "cell_type": "code",
   "execution_count": 51,
   "metadata": {},
   "outputs": [
    {
     "name": "stdout",
     "output_type": "stream",
     "text": [
      "[0.04706575 0.02229879 0.00861357 0.02701178 0.00019867 0.01582771\n",
      " 0.07152221 0.12307646 0.07147628 0.01314831 0.         0.11055032\n",
      " 0.06245197 0.09057451 0.07870264 0.         0.00083625 0.01651141\n",
      " 0.02109045 0.         0.01713977 0.00838346 0.         0.\n",
      " 0.         0.05275233 0.07329902 0.         0.         0.\n",
      " 0.0235397  0.04392863]\n"
     ]
    }
   ],
   "source": [
    "print(model.feature_importances_)"
   ]
  },
  {
   "cell_type": "code",
   "execution_count": 52,
   "metadata": {},
   "outputs": [
    {
     "data": {
      "image/png": "[encoded data removed]",
      "text/plain": [
       "<Figure size 1440x720 with 1 Axes>"
      ]
     },
     "metadata": {
      "needs_background": "light"
     },
     "output_type": "display_data"
    }
   ],
   "source": [
    "plt.figure(figsize=(20,10))\n",
    "ranked_features=pd.Series(model.feature_importances_,index=X.columns)\n",
    "ranked_features.nlargest(20).plot(kind='barh')\n",
    "plt.show()"
   ]
  },
  {
   "cell_type": "code",
   "execution_count": 53,
   "metadata": {},
   "outputs": [],
   "source": [
    "from sklearn.feature_selection import mutual_info_classif"
   ]
  },
  {
   "cell_type": "code",
   "execution_count": 54,
   "metadata": {},
   "outputs": [],
   "source": [
    "mutual_info=mutual_info_classif(X_train_sm,y_train_sm)"
   ]
  },
  {
   "cell_type": "code",
   "execution_count": 55,
   "metadata": {},
   "outputs": [
    {
     "data": {
      "text/plain": [
       "Category_id           0.870900\n",
       "ID_caller             0.853588\n",
       "user_symptom          0.816122\n",
       "created_at_minute     0.763249\n",
       "location              0.723643\n",
       "ID                    0.692884\n",
       "opened_by             0.632737\n",
       "opened_at_minute      0.591127\n",
       "Support_group         0.584000\n",
       "Created_by            0.542540\n",
       "updated_by            0.405321\n",
       "opened_at_hr          0.399138\n",
       "count_updated         0.273874\n",
       "created_at_hr         0.236245\n",
       "count_reassign        0.227511\n",
       "updated_hr            0.224889\n",
       "updated_day           0.152995\n",
       "ID_status             0.099267\n",
       "updated_minute        0.091153\n",
       "updated_month         0.046265\n",
       "active                0.020814\n",
       "type_contact          0.014666\n",
       "created_at_month      0.002510\n",
       "created_at_year       0.000000\n",
       "count_opening         0.000000\n",
       "created_at_day        0.000000\n",
       "opened_at_year        0.000000\n",
       "confirmation_check    0.000000\n",
       "updated_year          0.000000\n",
       "opened_at_day         0.000000\n",
       "opened_at_month       0.000000\n",
       "Doc_knowledge         0.000000\n",
       "dtype: float64"
      ]
     },
     "execution_count": 55,
     "metadata": {},
     "output_type": "execute_result"
    }
   ],
   "source": [
    "mutual_info = pd.Series(mutual_info)\n",
    "mutual_info.index = X_train.columns\n",
    "mutual_info.sort_values(ascending=False)"
   ]
  },
  {
   "cell_type": "code",
   "execution_count": 56,
   "metadata": {},
   "outputs": [
    {
     "data": {
      "text/plain": [
       "<matplotlib.axes._subplots.AxesSubplot at 0x7f106a364f10>"
      ]
     },
     "execution_count": 56,
     "metadata": {},
     "output_type": "execute_result"
    },
    {
     "data": {
      "image/png": "[encoded data removed]",
      "text/plain": [
       "<Figure size 1080x288 with 1 Axes>"
      ]
     },
     "metadata": {
      "needs_background": "light"
     },
     "output_type": "display_data"
    }
   ],
   "source": [
    "#let's plot the ordered mutual_info values per feature\n",
    "mutual_info.sort_values(ascending=False).plot.bar(figsize=(15, 4))"
   ]
  },
  {
   "cell_type": "code",
   "execution_count": 57,
   "metadata": {},
   "outputs": [
    {
     "data": {
      "text/plain": [
       "Index(['ID', 'ID_caller', 'opened_by', 'Created_by', 'location', 'Category_id',\n",
       "       'user_symptom', 'Support_group', 'opened_at_minute',\n",
       "       'created_at_minute'],\n",
       "      dtype='object')"
      ]
     },
     "execution_count": 57,
     "metadata": {},
     "output_type": "execute_result"
    }
   ],
   "source": [
    "#No we Will select the  top 10 important features\n",
    "sel_top_cols = SelectKBest(mutual_info_classif, k=10)\n",
    "sel_top_cols.fit(X_train_sm, y_train_sm)\n",
    "X_train.columns[sel_top_cols.get_support()]"
   ]
  },
  {
   "cell_type": "code",
   "execution_count": 58,
   "metadata": {},
   "outputs": [
    {
     "data": {
      "text/plain": [
       "DecisionTreeClassifier()"
      ]
     },
     "execution_count": 58,
     "metadata": {},
     "output_type": "execute_result"
    }
   ],
   "source": [
    "from sklearn.tree import DecisionTreeClassifier\n",
    "\n",
    "model= DecisionTreeClassifier()\n",
    "model.fit(X_train_sm,y_train_sm)"
   ]
  },
  {
   "cell_type": "code",
   "execution_count": 59,
   "metadata": {},
   "outputs": [
    {
     "data": {
      "text/plain": [
       "opened_by             0.376786\n",
       "location              0.279649\n",
       "ID_caller             0.156155\n",
       "Category_id           0.108817\n",
       "ID                    0.041778\n",
       "opened_at_hr          0.032321\n",
       "created_at_minute     0.004495\n",
       "opened_at_year        0.000000\n",
       "created_at_day        0.000000\n",
       "ID_status             0.000000\n",
       "active                0.000000\n",
       "count_reassign        0.000000\n",
       "count_opening         0.000000\n",
       "count_updated         0.000000\n",
       "created_at_year       0.000000\n",
       "created_at_month      0.000000\n",
       "Created_by            0.000000\n",
       "updated_by            0.000000\n",
       "type_contact          0.000000\n",
       "opened_at_minute      0.000000\n",
       "opened_at_month       0.000000\n",
       "user_symptom          0.000000\n",
       "Support_group         0.000000\n",
       "created_at_hr         0.000000\n",
       "confirmation_check    0.000000\n",
       "updated_day           0.000000\n",
       "updated_month         0.000000\n",
       "updated_year          0.000000\n",
       "updated_hr            0.000000\n",
       "updated_minute        0.000000\n",
       "opened_at_day         0.000000\n",
       "Doc_knowledge         0.000000\n",
       "dtype: float64"
      ]
     },
     "execution_count": 59,
     "metadata": {},
     "output_type": "execute_result"
    }
   ],
   "source": [
    "feature = pd.Series(model.feature_importances_)\n",
    "feature.index = X_train.columns\n",
    "feature.sort_values(ascending=False)"
   ]
  },
  {
   "cell_type": "code",
   "execution_count": 60,
   "metadata": {},
   "outputs": [
    {
     "data": {
      "text/plain": [
       "<matplotlib.axes._subplots.AxesSubplot at 0x7f1069c2a9a0>"
      ]
     },
     "execution_count": 60,
     "metadata": {},
     "output_type": "execute_result"
    },
    {
     "data": {
      "image/png": "[encoded data removed]",
      "text/plain": [
       "<Figure size 1080x288 with 1 Axes>"
      ]
     },
     "metadata": {
      "needs_background": "light"
     },
     "output_type": "display_data"
    }
   ],
   "source": [
    "feature.sort_values(ascending=False).plot.bar(figsize=(15, 4))"
   ]
  },
  {
   "cell_type": "code",
   "execution_count": 61,
   "metadata": {},
   "outputs": [],
   "source": [
    "X_train_sm_new= X_train_sm[['opened_by','location','Category_id','ID']]\n",
    "X_test_sm_new= X_test[['opened_by','location','Category_id','ID']]\n"
   ]
  },
  {
   "cell_type": "code",
   "execution_count": 62,
   "metadata": {},
   "outputs": [
    {
     "data": {
      "text/html": [
       "<div>\n",
       "<style scoped>\n",
       "    .dataframe tbody tr th:only-of-type {\n",
       "        vertical-align: middle;\n",
       "    }\n",
       "\n",
       "    .dataframe tbody tr th {\n",
       "        vertical-align: top;\n",
       "    }\n",
       "\n",
       "    .dataframe thead th {\n",
       "        text-align: right;\n",
       "    }\n",
       "</style>\n",
       "<table border=\"1\" class=\"dataframe\">\n",
       "  <thead>\n",
       "    <tr style=\"text-align: right;\">\n",
       "      <th></th>\n",
       "      <th>opened_by</th>\n",
       "      <th>location</th>\n",
       "      <th>Category_id</th>\n",
       "      <th>ID</th>\n",
       "    </tr>\n",
       "  </thead>\n",
       "  <tbody>\n",
       "    <tr>\n",
       "      <th>0</th>\n",
       "      <td>24</td>\n",
       "      <td>98</td>\n",
       "      <td>164</td>\n",
       "      <td>86</td>\n",
       "    </tr>\n",
       "    <tr>\n",
       "      <th>1</th>\n",
       "      <td>180</td>\n",
       "      <td>93</td>\n",
       "      <td>125</td>\n",
       "      <td>63</td>\n",
       "    </tr>\n",
       "    <tr>\n",
       "      <th>2</th>\n",
       "      <td>131</td>\n",
       "      <td>46</td>\n",
       "      <td>135</td>\n",
       "      <td>102</td>\n",
       "    </tr>\n",
       "    <tr>\n",
       "      <th>3</th>\n",
       "      <td>24</td>\n",
       "      <td>44</td>\n",
       "      <td>107</td>\n",
       "      <td>122</td>\n",
       "    </tr>\n",
       "    <tr>\n",
       "      <th>4</th>\n",
       "      <td>8</td>\n",
       "      <td>204</td>\n",
       "      <td>125</td>\n",
       "      <td>57</td>\n",
       "    </tr>\n",
       "    <tr>\n",
       "      <th>...</th>\n",
       "      <td>...</td>\n",
       "      <td>...</td>\n",
       "      <td>...</td>\n",
       "      <td>...</td>\n",
       "    </tr>\n",
       "    <tr>\n",
       "      <th>658</th>\n",
       "      <td>501</td>\n",
       "      <td>204</td>\n",
       "      <td>192</td>\n",
       "      <td>134</td>\n",
       "    </tr>\n",
       "    <tr>\n",
       "      <th>659</th>\n",
       "      <td>433</td>\n",
       "      <td>204</td>\n",
       "      <td>220</td>\n",
       "      <td>84</td>\n",
       "    </tr>\n",
       "    <tr>\n",
       "      <th>660</th>\n",
       "      <td>472</td>\n",
       "      <td>204</td>\n",
       "      <td>203</td>\n",
       "      <td>113</td>\n",
       "    </tr>\n",
       "    <tr>\n",
       "      <th>661</th>\n",
       "      <td>131</td>\n",
       "      <td>93</td>\n",
       "      <td>164</td>\n",
       "      <td>83</td>\n",
       "    </tr>\n",
       "    <tr>\n",
       "      <th>662</th>\n",
       "      <td>433</td>\n",
       "      <td>204</td>\n",
       "      <td>220</td>\n",
       "      <td>94</td>\n",
       "    </tr>\n",
       "  </tbody>\n",
       "</table>\n",
       "<p>663 rows × 4 columns</p>\n",
       "</div>"
      ],
      "text/plain": [
       "     opened_by  location  Category_id   ID\n",
       "0           24        98          164   86\n",
       "1          180        93          125   63\n",
       "2          131        46          135  102\n",
       "3           24        44          107  122\n",
       "4            8       204          125   57\n",
       "..         ...       ...          ...  ...\n",
       "658        501       204          192  134\n",
       "659        433       204          220   84\n",
       "660        472       204          203  113\n",
       "661        131        93          164   83\n",
       "662        433       204          220   94\n",
       "\n",
       "[663 rows x 4 columns]"
      ]
     },
     "execution_count": 62,
     "metadata": {},
     "output_type": "execute_result"
    }
   ],
   "source": [
    "X_train_sm_new"
   ]
  },
  {
   "cell_type": "code",
   "execution_count": 63,
   "metadata": {},
   "outputs": [],
   "source": [
    "#Model Building"
   ]
  },
  {
   "cell_type": "code",
   "execution_count": 69,
   "metadata": {},
   "outputs": [
    {
     "data": {
      "text/plain": [
       "RandomForestClassifier(max_depth=27)"
      ]
     },
     "execution_count": 69,
     "metadata": {},
     "output_type": "execute_result"
    }
   ],
   "source": [
    "from sklearn.ensemble import RandomForestClassifier\n",
    "classifier= RandomForestClassifier(max_depth=27)\n",
    "classifier.fit(X_train_sm_new,y_train_sm)"
   ]
  },
  {
   "cell_type": "code",
   "execution_count": 70,
   "metadata": {},
   "outputs": [],
   "source": [
    "# Predicting the model\n",
    "Y_predict_rf = classifier.predict(X_test_sm_new)"
   ]
  },
  {
   "cell_type": "code",
   "execution_count": 71,
   "metadata": {},
   "outputs": [],
   "source": [
    "from sklearn.metrics import roc_auc_score\n",
    "from sklearn.metrics import accuracy_score\n",
    "import sklearn.metrics as metrics"
   ]
  },
  {
   "cell_type": "code",
   "execution_count": 72,
   "metadata": {},
   "outputs": [
    {
     "name": "stdout",
     "output_type": "stream",
     "text": [
      "0.9523809523809523\n",
      "              precision    recall  f1-score   support\n",
      "\n",
      "           1       0.75      1.00      0.86         6\n",
      "           2       1.00      0.95      0.97        94\n",
      "           3       0.62      1.00      0.77         5\n",
      "\n",
      "    accuracy                           0.95       105\n",
      "   macro avg       0.79      0.98      0.87       105\n",
      "weighted avg       0.97      0.95      0.96       105\n",
      "\n"
     ]
    }
   ],
   "source": [
    "# Finding accuracy, precision, recall and confusion matrix\n",
    "from sklearn.metrics import classification_report\n",
    "print(accuracy_score(y_test,Y_predict_rf))\n",
    "print(classification_report(y_test,Y_predict_rf))"
   ]
  },
  {
   "cell_type": "code",
   "execution_count": 73,
   "metadata": {},
   "outputs": [
    {
     "data": {
      "text/plain": [
       "array([[ 6,  0,  0],\n",
       "       [ 2, 89,  3],\n",
       "       [ 0,  0,  5]])"
      ]
     },
     "execution_count": 73,
     "metadata": {},
     "output_type": "execute_result"
    }
   ],
   "source": [
    "from sklearn.metrics import confusion_matrix\n",
    "confusion_matrix(y_test,Y_predict_rf)"
   ]
  },
  {
   "cell_type": "code",
   "execution_count": 74,
   "metadata": {},
   "outputs": [
    {
     "name": "stdout",
     "output_type": "stream",
     "text": [
      "Train Accuracy: 100.0\n",
      "Test Accuracy: 95.23809523809523\n"
     ]
    }
   ],
   "source": [
    "print(\"Train Accuracy:\",model.score(X_train_sm_new, y_train_sm)*100)\n",
    "print(\"Test Accuracy:\",model.score(X_test_sm_new, y_test)*100)"
   ]
  },
  {
   "cell_type": "code",
   "execution_count": 75,
   "metadata": {},
   "outputs": [],
   "source": [
    "#Export Model"
   ]
  },
  {
   "cell_type": "code",
   "execution_count": 76,
   "metadata": {},
   "outputs": [],
   "source": [
    "import pickle"
   ]
  },
  {
   "cell_type": "code",
   "execution_count": 77,
   "metadata": {},
   "outputs": [],
   "source": [
    "pickle.dump(classifier, open('incident.pkl','wb'))\n"
   ]
  },
  {
   "cell_type": "code",
   "execution_count": 81,
   "metadata": {},
   "outputs": [
    {
     "name": "stdout",
     "output_type": "stream",
     "text": [
      "[2]\n"
     ]
    }
   ],
   "source": [
    "model = pickle.load(open('incident.pkl','rb'))\n",
    "print(model.predict([[24,98,164,86]]))"
   ]
  },
  {
   "cell_type": "code",
   "execution_count": null,
   "metadata": {},
   "outputs": [],
   "source": []
  },
  {
   "cell_type": "code",
   "execution_count": null,
   "metadata": {},
   "outputs": [],
   "source": []
  },
  {
   "cell_type": "code",
   "execution_count": null,
   "metadata": {},
   "outputs": [],
   "source": []
  },
  {
   "cell_type": "code",
   "execution_count": null,
   "metadata": {},
   "outputs": [],
   "source": []
  },
  {
   "cell_type": "code",
   "execution_count": null,
   "metadata": {},
   "outputs": [],
   "source": []
  }
 ],
 "metadata": {
  "kernelspec": {
   "display_name": "Python 3",
   "language": "python",
   "name": "python3"
  },
  "language_info": {
   "codemirror_mode": {
    "name": "ipython",
    "version": 3
   },
   "file_extension": ".py",
   "mimetype": "text/x-python",
   "name": "python",
   "nbconvert_exporter": "python",
   "pygments_lexer": "ipython3",
   "version": "3.8.3"
  }
 },
 "nbformat": 4,
 "nbformat_minor": 4
}
